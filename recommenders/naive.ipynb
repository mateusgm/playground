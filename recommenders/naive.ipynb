{
 "cells": [
  {
   "cell_type": "code",
   "execution_count": 1,
   "metadata": {
    "collapsed": true
   },
   "outputs": [],
   "source": [
    "import numpy as np"
   ]
  },
  {
   "cell_type": "code",
   "execution_count": null,
   "metadata": {
    "collapsed": true
   },
   "outputs": [],
   "source": [
    "u1, h1\n",
    "u1, h2\n",
    "u1, h3\n",
    "u2, h1\n",
    "u2, h4\n",
    "u3, h2\n",
    "u3, h1\n",
    "u4, h2\n",
    "u4, h1"
   ]
  },
  {
   "cell_type": "code",
   "execution_count": null,
   "metadata": {
    "collapsed": true
   },
   "outputs": [],
   "source": [
    "p(n | l, x)\n",
    "\n",
    "# naive bayes\n",
    "\n",
    "p(n | l, x) =  p( n, l, x)   =  p(l | x, n) * p( x | n ) * p( n ) = x independec = p(l | n) * p( x | n ) * p (n)\n",
    "                 p(l, x)               p(l, x)                                               p(l,x)\n",
    "    \n",
    "p(n1) -> c(l & n1) * c(x1 & n1) * c(x2 & n1)\n",
    "p(n2) -> c(l&n2)\n",
    "\n",
    "   f1:1 f2:1 f2:2 \n",
    "n1 1    5\n",
    "n2 2    5\n",
    "n3 3    6\n",
    "n4 4    7\n",
    "\n",
    "\n",
    "# look to book\n",
    "\n",
    "c( l & n ) / c(t)\n"
   ]
  },
  {
   "cell_type": "code",
   "execution_count": null,
   "metadata": {
    "collapsed": true
   },
   "outputs": [],
   "source": [
    "argmax p(y|f1,f2,f3)"
   ]
  }
 ],
 "metadata": {
  "kernelspec": {
   "display_name": "Python 2",
   "language": "python",
   "name": "python2"
  },
  "language_info": {
   "codemirror_mode": {
    "name": "ipython",
    "version": 2
   },
   "file_extension": ".py",
   "mimetype": "text/x-python",
   "name": "python",
   "nbconvert_exporter": "python",
   "pygments_lexer": "ipython2",
   "version": "2.7.12"
  }
 },
 "nbformat": 4,
 "nbformat_minor": 0
}
